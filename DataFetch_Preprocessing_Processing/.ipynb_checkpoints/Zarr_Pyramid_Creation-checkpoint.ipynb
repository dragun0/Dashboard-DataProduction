{
 "cells": [
  {
   "cell_type": "code",
   "execution_count": null,
   "id": "e822122c-814f-4d22-a97f-e96e768387e7",
   "metadata": {},
   "outputs": [],
   "source": [
    "# Script used to compute multiscale pyramids from the comparison files (AE) and save them as Zarr files"
   ]
  },
  {
   "cell_type": "code",
   "execution_count": null,
   "id": "005db6a1-b7e9-48c3-9db5-0e39de9a45a9",
   "metadata": {},
   "outputs": [],
   "source": [
    "from ndpyramid import pyramid_reproject\n",
    "import xarray as xr\n",
    "import dask\n",
    "import numpy as np"
   ]
  },
  {
   "cell_type": "code",
   "execution_count": null,
   "id": "55ed7bcf-10c4-4811-bb5b-706a94c8df4e",
   "metadata": {},
   "outputs": [],
   "source": [
    "# Repeat the script for each file"
   ]
  },
  {
   "cell_type": "code",
   "execution_count": null,
   "id": "d51bb3cd-ae06-4d12-abc6-b1391f8aa3d0",
   "metadata": {},
   "outputs": [],
   "source": [
    "dsn = xr.open_dataset(\"Comparison Metrics/20240701/20240701_AE_marsfc.nc\")\n",
    "\n",
    "# stack all weather variables into a single DataArray with a new band dimension\n",
    "\n",
    "# List of variables to stack\n",
    "var_names = [\"u10\", \"v10\", \"t2m\", \"msl\", \"q\"] # tp - put tp back in\n",
    "\n",
    "# Stack all variables into one DataArray with a new 'band' dimension\n",
    "stacked = xr.concat([dsn[var] for var in var_names], dim=\"band\")\n",
    "stacked = stacked.assign_coords(band=(\"band\", var_names))\n",
    "\n",
    "# Rename the stacked variable\n",
    "stacked.name = \"climate\"\n",
    "\n",
    "# Drop the original variables from the dataset (they're now stacked)\n",
    "new_dsn = dsn.drop_vars(var_names)\n",
    "\n",
    "# Add the stacked DataArray back in\n",
    "new_dsn[\"climate\"] = stacked\n",
    "\n",
    "# Reorder dimensions if needed\n",
    "new_dsn[\"climate\"] = new_dsn[\"climate\"].transpose(\"band\", \"time\", \"latitude\", \"longitude\")"
   ]
  },
  {
   "cell_type": "code",
   "execution_count": null,
   "id": "1ac0f8c6-07a9-493d-8831-2f2f717e2f03",
   "metadata": {},
   "outputs": [],
   "source": [
    "# Specify which bands to keep, e.g., keep only 'q' and 't2m'\n",
    "bands_to_keep = ['q', 't2m']\n",
    "new_dsn = new_dsn.sel(band=bands_to_keep)\n",
    "\n",
    "# Reassign the band coordinate with dtype '<U4'\n",
    "fixed_band = np.array(new_dsn.band.values, dtype='U4')\n",
    "new_dsn = new_dsn.assign_coords(band=fixed_band)\n",
    "\n",
    "# Replace time values with simple float indices\n",
    "new_dsn = new_dsn.assign_coords(time=np.arange(len(new_dsn.time)).astype(\"float64\")) \n",
    "\n",
    "# Drop unwanted coordinate variables\n",
    "vars_to_drop = ['number', 'expver', 'step', 'meanSea', 'surface', 'number', 'expver']\n",
    "existing_vars = [var for var in vars_to_drop if var in new_dsn.variables]\n",
    "new_dsn = new_dsn.drop_vars(existing_vars)\n",
    "\n",
    "# Step 2: Rename dimensions\n",
    "new_dsn = new_dsn.rename({\"latitude\": \"y\", \"longitude\": \"x\"})\n",
    "\n",
    "# assign coordinate system\n",
    "if not new_dsn.rio.crs:\n",
    "    new_dsn = new_dsn.rio.write_crs(\"EPSG:4326\")"
   ]
  },
  {
   "cell_type": "code",
   "execution_count": null,
   "id": "a3e9c958-5e90-4e04-8d8c-bf56d50f085f",
   "metadata": {},
   "outputs": [],
   "source": [
    "# Create pyramids"
   ]
  },
  {
   "cell_type": "code",
   "execution_count": null,
   "id": "fd9b30e4-5449-424d-93dc-db7720e35d1a",
   "metadata": {},
   "outputs": [],
   "source": [
    "VERSION = 2\n",
    "LEVELS = 6"
   ]
  },
  {
   "cell_type": "code",
   "execution_count": null,
   "id": "b623e723-f537-4a2a-9e37-9ffc7fd89258",
   "metadata": {},
   "outputs": [],
   "source": [
    "%%time\n",
    "dt = pyramid_reproject(\n",
    "    new_dsn, levels=LEVELS, extra_dim=\"band\", other_chunks={\"band\": 2, \"time\": 41}, clear_attrs=True\n",
    ")"
   ]
  },
  {
   "cell_type": "code",
   "execution_count": null,
   "id": "871de00a-309e-4efa-a8b0-f7c352e1f529",
   "metadata": {},
   "outputs": [],
   "source": [
    "# write the pyramid to zarr\n",
    "dt.to_zarr(\"Pyramids/20240701/20240701_AE_marsfc.zarr\", consolidated=True, mode=\"w\")"
   ]
  }
 ],
 "metadata": {
  "kernelspec": {
   "display_name": "Python 3 (ipykernel)",
   "language": "python",
   "name": "python3"
  },
  "language_info": {
   "codemirror_mode": {
    "name": "ipython",
    "version": 3
   },
   "file_extension": ".py",
   "mimetype": "text/x-python",
   "name": "python",
   "nbconvert_exporter": "python",
   "pygments_lexer": "ipython3",
   "version": "3.12.2"
  }
 },
 "nbformat": 4,
 "nbformat_minor": 5
}
