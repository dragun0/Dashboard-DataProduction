{
 "cells": [
  {
   "cell_type": "code",
   "execution_count": null,
   "id": "8c6176e5-c0ad-4912-b62e-96fae0c86204",
   "metadata": {},
   "outputs": [],
   "source": [
    "from ecmwfapi import *\n",
    "import xarray as xr\n",
    "import cdsapi\n",
    "import boto3\n",
    "import os\n",
    "import dask"
   ]
  },
  {
   "cell_type": "code",
   "execution_count": null,
   "id": "3d90c0cc-b518-460e-82e3-24261a4c3d27",
   "metadata": {},
   "outputs": [],
   "source": [
    "# Download past IFS-HRES forecast from mars: pressure parameter\n",
    "# Parameter: Specific humidity at 1000 hPa (q)\n",
    "# Months 1 - 12 of 2024, First 240 hours (10 days) of each month"
   ]
  },
  {
   "cell_type": "code",
   "execution_count": null,
   "id": "8768e9a6-8fb8-4146-83ee-7b45010a646d",
   "metadata": {},
   "outputs": [],
   "source": [
    "# Initialize the ECMWFService\n",
    "server = ECMWFService(\"mars\")\n",
    "\n",
    "# List of months for the year 2024\n",
    "months = [f\"{m:02d}\" for m in range(1, 13)]  # [\"01\", \"02\", ..., \"12\"]\n",
    "year = \"2024\"\n",
    "day = \"01\"\n",
    "\n",
    "for month in months:\n",
    "    date_str = f\"{year}{month}{day}\"\n",
    "    target_file = f\"Pressure Variables/{date_str}/{date_str}_marsfc_q.nc\"\n",
    "    \n",
    "    request_params = {\n",
    "        \"class\": \"od\",\n",
    "        \"date\": date_str,\n",
    "        \"expver\": \"1\",\n",
    "        \"levelist\": \"1000\",\n",
    "        \"levtype\": \"pl\",\n",
    "        \"param\": \"133.128\",\n",
    "        \"step\": \"0/to/240/by/6\", # max is 240 for fc\n",
    "        \"stream\": \"oper\",\n",
    "        \"time\": \"00\",\n",
    "        \"format\" : \"netcdf\",\n",
    "        \"type\": \"fc\",\n",
    "        \"grid\": \"0.25/0.25\"\n",
    "        \n",
    "    }\n",
    "    \n",
    "    print(f\"Requesting data for {date_str}...\")\n",
    "    server.execute(request_params, target_file)\n",
    "    print(f\"Data saved to {target_file}\\n\")"
   ]
  },
  {
   "cell_type": "code",
   "execution_count": null,
   "id": "4b44ffd8-d77d-491d-97de-fba7780eee2e",
   "metadata": {},
   "outputs": [],
   "source": []
  },
  {
   "cell_type": "code",
   "execution_count": null,
   "id": "dbbfc6ae-f032-4ec9-a253-71e68ef301cb",
   "metadata": {},
   "outputs": [],
   "source": [
    "# Download past AIFS forecast from mars: pressure parameter\n",
    "# Parameter: Specific humidity at 1000 hPa (q)\n",
    "# Months 1 - 12 of 2024, First 240 hours (10 days) of each month"
   ]
  },
  {
   "cell_type": "code",
   "execution_count": null,
   "id": "9d8e9300-0bb3-4955-8e00-6a89a2cd4cf0",
   "metadata": {},
   "outputs": [],
   "source": [
    "# Initialize the ECMWFService\n",
    "server = ECMWFService(\"mars\")\n",
    "\n",
    "# List of months for the year 2024\n",
    "months = [f\"{m:02d}\" for m in range(1, 13)]  # [\"01\", \"02\", ..., \"12\"]\n",
    "year = \"2024\"\n",
    "day = \"01\"\n",
    "\n",
    "for month in months:\n",
    "    date_str = f\"{year}{month}{day}\"\n",
    "    target_file = f\"Pressure Variables/{date_str}/{date_str}_marsai_q.nc\"\n",
    "    \n",
    "    request_params = {\n",
    "        \"class\": \"ai\",\n",
    "        \"date\": date_str,\n",
    "        \"expver\": \"1\",\n",
    "        \"levelist\": \"1000\",\n",
    "        \"levtype\": \"pl\",\n",
    "        \"model\" : \"aifs-single\",\n",
    "        \"param\": \"133\",\n",
    "        \"step\": \"0/to/240/by/6\",\n",
    "        \"stream\": \"oper\",\n",
    "        \"time\": \"06\",\n",
    "        \"format\" : \"netcdf\",\n",
    "        \"type\": \"fc\",\n",
    "        \"grid\": \"0.25/0.25\"\n",
    "            \n",
    "    }\n",
    "    \n",
    "    print(f\"Requesting data for {date_str}...\")\n",
    "    server.execute(request_params, target_file)\n",
    "    print(f\"Data saved to {target_file}\\n\")"
   ]
  },
  {
   "cell_type": "code",
   "execution_count": null,
   "id": "813e5b05-1906-45be-8a04-da20b8775353",
   "metadata": {},
   "outputs": [],
   "source": []
  },
  {
   "cell_type": "code",
   "execution_count": null,
   "id": "e1aa5cd7-122b-430c-b5f9-d367ca46e00f",
   "metadata": {},
   "outputs": [],
   "source": [
    "# Download era5 data from CDS: pressure parameter\n",
    "# Parameter: Specific humidity at 1000 hPa (q)\n",
    "# Months 1 - 12 of 2024, First 240 hours (10 days) of each month"
   ]
  },
  {
   "cell_type": "code",
   "execution_count": null,
   "id": "f90e8d2c-ab31-4181-b280-6f163e9ddf4c",
   "metadata": {},
   "outputs": [],
   "source": [
    "# Initialize the CDS API client\n",
    "client = cdsapi.Client(url=\"https://cds.climate.copernicus.eu/api\", key=\"\")\n",
    "\n",
    "# Define the dataset\n",
    "dataset = \"reanalysis-era5-pressure-levels\"\n",
    "\n",
    "# Define the months for the year 2024\n",
    "months = [f\"{m:02d}\" for m in range(1, 13)]  # [\"01\", \"02\", ..., \"12\"]\n",
    "\n",
    "# Loop through each month and make a request\n",
    "for month in months:\n",
    "    request = {\n",
    "        \"product_type\": [\"reanalysis\"],\n",
    "        \"variable\": [\n",
    "            \"specific_humidity\",\n",
    "        ],\n",
    "        \"year\": [\"2024\"],\n",
    "        \"month\": [month],  # Dynamically set the month\n",
    "        \"day\": [\n",
    "            \"01\", \"02\", \"03\",\n",
    "            \"04\", \"05\", \"06\",\n",
    "            \"07\", \"08\", \"09\",\n",
    "            \"10\", \"11\"\n",
    "            ],  \n",
    "        \"time\": [\"00:00\", \"06:00\", \"12:00\", \"18:00\"],\n",
    "        \"pressure_level\": [\n",
    "            \"1000\"\n",
    "        ],\n",
    "        \"data_format\": \"netcdf\",\n",
    "        \"download_format\": \"unarchived\"\n",
    "    }\n",
    "\n",
    "    # Define output file name based on the date\n",
    "    output_filename = f\"Pressure Variables/2024{month}01/2024{month}01_era5_q.nc\"\n",
    "\n",
    "    # Make the request and download the data\n",
    "    print(f\"Requesting data for 2024-{month}-01...\")\n",
    "    client.retrieve(dataset, request).download(output_filename)\n",
    "    print(f\"Download complete: {output_filename}\")\n",
    "\n",
    "print(\"All downloads completed!\")"
   ]
  }
 ],
 "metadata": {
  "kernelspec": {
   "display_name": "Python 3 (ipykernel)",
   "language": "python",
   "name": "python3"
  },
  "language_info": {
   "codemirror_mode": {
    "name": "ipython",
    "version": 3
   },
   "file_extension": ".py",
   "mimetype": "text/x-python",
   "name": "python",
   "nbconvert_exporter": "python",
   "pygments_lexer": "ipython3",
   "version": "3.12.2"
  }
 },
 "nbformat": 4,
 "nbformat_minor": 5
}
