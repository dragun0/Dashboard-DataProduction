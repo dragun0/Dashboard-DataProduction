{
 "cells": [
  {
   "cell_type": "code",
   "execution_count": null,
   "id": "452f9c90-1900-4f0c-8f3c-aa28fbb8f9cd",
   "metadata": {},
   "outputs": [],
   "source": [
    "# Script to compute Absolute Error of GraphCast, IFS-HRES, and AIFS per lead time of each Month"
   ]
  },
  {
   "cell_type": "code",
   "execution_count": null,
   "id": "334ed77f-06bd-4021-9ea7-d8ab865fe13f",
   "metadata": {},
   "outputs": [],
   "source": [
    "import xarray as xr\n",
    "import numpy as np"
   ]
  },
  {
   "cell_type": "code",
   "execution_count": null,
   "id": "aa7d1e34-f7a7-4bd0-84c2-5fd14204fbf4",
   "metadata": {},
   "outputs": [],
   "source": [
    "# Compare ERA5 to IFS-HRES -> Compute AE\n",
    "# Run the scripts for each Monthly file"
   ]
  },
  {
   "cell_type": "code",
   "execution_count": null,
   "id": "df7a2161-b690-428c-9c16-34bb732c3a51",
   "metadata": {},
   "outputs": [],
   "source": [
    "# open IFS-HRES\n",
    "fc = xr.open_dataset(\"Surface Variables/20240301/20240301_marsfc_sv_q.nc\")\n",
    "# open ERA5\n",
    "era5_fc = xr.open_dataset(\"Surface Variables/20240301/20240301_era5_fc_sv_q.nc\")\n",
    "\n",
    "# Rename \"valid_time\" in ERA5 dataset to match \"time\" in the IFS-HRES dataset\n",
    "era5_fc = era5_fc.rename({\"valid_time\": \"time\"})\n",
    "\n",
    "# Compute Absolute Error at each time step and at each longitude and latitude pair. Output dataset shape is same as input shape\n",
    "def compute_ae(truth, pred):\n",
    "    return np.sqrt(((truth - pred) ** 2).mean(dim=[]))\n",
    "rmse_3d = {var: compute_ae(era5_fc[var], fc[var]) for var in [\"u10\", \"v10\", \"t2m\", \"msl\", \"q\"]}\n",
    "\n",
    "rmse_ds_3d = xr.Dataset(rmse_3d)\n",
    "rmse_ds_3d.to_netcdf(\"Comparison Metrics/20240301/20240301_AE_marsfc.nc\")"
   ]
  },
  {
   "cell_type": "code",
   "execution_count": null,
   "id": "4961d3ac-afe2-4c6f-922a-2cd17eee0e59",
   "metadata": {},
   "outputs": [],
   "source": []
  },
  {
   "cell_type": "code",
   "execution_count": null,
   "id": "9b07a009-4184-4637-bd5c-a278bde304c7",
   "metadata": {},
   "outputs": [],
   "source": [
    "# Compare ERA5 to AIFS -> Compute AE\n",
    "# Run the scripts for each Monthly file"
   ]
  },
  {
   "cell_type": "code",
   "execution_count": null,
   "id": "302aaf2b-0369-42d6-adf4-f5e21563ed5e",
   "metadata": {},
   "outputs": [],
   "source": [
    "# open AIFS\n",
    "ai = xr.open_dataset(\"Surface Variables/20240301/20240301_marsai_sv_q.nc\")\n",
    "# open ERA5\n",
    "era5_ai = xr.open_dataset(\"Surface Variables/20240301/20240301_era5_gcai_sv_q.nc\")\n",
    "\n",
    "# Rename \"valid_time\" in ERA5 dataset to match \"time\" in the AIFS dataset\n",
    "era5_ai = era5_ai.rename({\"valid_time\": \"time\"})\n",
    "\n",
    "# Compute Absolute Error at each time step and at each longitude and latitude pair. Output dataset shape is same as input shape\n",
    "def compute_ae(truth, pred):\n",
    "    return np.sqrt(((truth - pred) ** 2).mean(dim=[]))\n",
    "rmse_3d = {var: compute_ae(era5_ai[var], ai[var]) for var in [\"u10\", \"v10\", \"t2m\", \"msl\", \"q\"]}\n",
    "\n",
    "rmse_ds_3d = xr.Dataset(rmse_3d)\n",
    "rmse_ds_3d.to_netcdf(\"Comparison Metrics/20240301/20240301_AE_marsai.nc\")"
   ]
  },
  {
   "cell_type": "code",
   "execution_count": null,
   "id": "9ec52e69-bf4a-41a2-b7ec-cf11955142ef",
   "metadata": {},
   "outputs": [],
   "source": []
  },
  {
   "cell_type": "code",
   "execution_count": null,
   "id": "c3bcb319-11c1-49a1-939a-3d21bf037f9e",
   "metadata": {},
   "outputs": [],
   "source": [
    "# Compare ERA5 to GraphCast -> Compute AE\n",
    "# Run the scripts for each Monthly file"
   ]
  },
  {
   "cell_type": "code",
   "execution_count": null,
   "id": "fb3a1a5c-69cb-41b1-bf46-d8e3597e070e",
   "metadata": {},
   "outputs": [],
   "source": [
    "# open GraphCast\n",
    "gc = xr.open_dataset(\"Surface Variables/20240301/20240301_gc_sv_q.nc\")\n",
    "# open ERA5\n",
    "era5_gcai = xr.open_dataset(\"Surface Variables/20240501/20240501_era5_gcai_sv_q.nc\")\n",
    "\n",
    "# Rename \"valid_time\" in ERA5 dataset to match \"time\" in the GraphCast dataset\n",
    "era5_ai = era5_ai.rename({\"valid_time\": \"time\"})\n",
    "\n",
    "# Drop the existing \"time\" coordinate in GraphCast to avoid conflicts\n",
    "if \"time\" in gc.coords:\n",
    "    gc = gc.drop_vars(\"time\")\n",
    "\n",
    "# Swap the \"step\" dimension with \"valid_time\" in GraphCast and rename it to \"time\"\n",
    "gc = gc.swap_dims({\"step\": \"valid_time\"})  # make valid_time a dimension\n",
    "gc = gc.rename({\"valid_time\": \"time\"})     # rename the dimension to \"time\"\n",
    "\n",
    "# Compute Absolute Error at each time step and at each longitude and latitude pair. Output dataset shape is same as input shape\n",
    "def compute_ae(truth, pred):\n",
    "    return np.sqrt(((truth - pred) ** 2).mean(dim=[]))\n",
    "rmse_3d = {var: compute_ae(era5_gcai[var], gc[var]) for var in [\"u10\", \"v10\", \"t2m\", \"msl\", \"q\"]}\n",
    "\n",
    "rmse_ds_3d = xr.Dataset(rmse_3d)\n",
    "rmse_ds_3d.to_netcdf(\"Comparison Metrics/20240301/20240301_AE_gc.nc\")"
   ]
  },
  {
   "cell_type": "code",
   "execution_count": null,
   "id": "88df5964-6fad-4c08-80d8-28405a8b27e4",
   "metadata": {},
   "outputs": [],
   "source": []
  }
 ],
 "metadata": {
  "kernelspec": {
   "display_name": "Python 3 (ipykernel)",
   "language": "python",
   "name": "python3"
  },
  "language_info": {
   "codemirror_mode": {
    "name": "ipython",
    "version": 3
   },
   "file_extension": ".py",
   "mimetype": "text/x-python",
   "name": "python",
   "nbconvert_exporter": "python",
   "pygments_lexer": "ipython3",
   "version": "3.12.2"
  }
 },
 "nbformat": 4,
 "nbformat_minor": 5
}
