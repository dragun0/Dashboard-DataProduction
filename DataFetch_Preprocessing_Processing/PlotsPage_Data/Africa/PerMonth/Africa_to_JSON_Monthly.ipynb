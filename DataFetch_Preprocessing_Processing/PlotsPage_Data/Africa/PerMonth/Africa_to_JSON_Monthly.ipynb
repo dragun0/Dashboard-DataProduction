{
 "cells": [
  {
   "cell_type": "code",
   "execution_count": 1,
   "id": "9f063e79-7e60-448c-97b4-6b4367443679",
   "metadata": {},
   "outputs": [],
   "source": [
    "import xarray as xr\n",
    "import numpy as np\n",
    "import pandas as pd\n",
    "import os\n",
    "import matplotlib.pyplot as plt\n",
    "import json"
   ]
  },
  {
   "cell_type": "code",
   "execution_count": null,
   "id": "a7301e7b-ef75-4d2b-9fca-81e4fbbe84c3",
   "metadata": {},
   "outputs": [],
   "source": [
    "# merge all \"x_monthly_allmodels.nc\" together"
   ]
  },
  {
   "cell_type": "code",
   "execution_count": 2,
   "id": "03275407-29fe-4b63-88d2-0cf1b92fdbc0",
   "metadata": {},
   "outputs": [
    {
     "name": "stdout",
     "output_type": "stream",
     "text": [
      "<xarray.Dataset> Size: 6kB\n",
      "Dimensions:      (metric: 4, month: 13, model: 3)\n",
      "Coordinates:\n",
      "  * metric       (metric) object 32B 'r' 'rmse' 'mae' 'mbe'\n",
      "  * month        (month) int64 104B 1 2 3 4 5 6 7 8 9 10 11 12 13\n",
      "  * model        (model) <U6 72B 'marsai' 'gc' 'marsfc'\n",
      "    spatial_ref  int64 8B 0\n",
      "Data variables:\n",
      "    v10          (metric, model, month) float64 1kB nan nan ... -0.04144\n",
      "    u10          (metric, model, month) float64 1kB nan nan ... 0.08843 0.003803\n",
      "    t2m          (metric, model, month) float64 1kB nan nan ... -0.5321 -0.3152\n",
      "    msl          (metric, model, month) float64 1kB nan nan ... -0.3409 -0.3692\n",
      "    q            (metric, model, month) float64 1kB nan nan ... 0.06168 0.0699\n"
     ]
    }
   ],
   "source": [
    "# Open the datasets\n",
    "r = xr.open_dataset(\"Africa_PearsonR_monthly_allmodels.nc\")\n",
    "rmse = xr.open_dataset(\"Africa_RMSE_monthly_allmodels.nc\")\n",
    "mae = xr.open_dataset(\"Africa_MAE_monthly_allmodels.nc\")\n",
    "mbe = xr.open_dataset(\"Africa_MBE_monthly_allmodels.nc\")\n",
    "\n",
    "# List of shared variables\n",
    "variables = list(set(r.data_vars) & set(rmse.data_vars) & set(mae.data_vars) & set(mbe.data_vars))\n",
    "\n",
    "# Build a new dataset with a 'metric' dimension\n",
    "combined_vars = {}\n",
    "for var in variables:\n",
    "    combined_vars[var] = xr.concat(\n",
    "        [r[var].expand_dims(metric=[\"r\"]),\n",
    "         rmse[var].expand_dims(metric=[\"rmse\"]),\n",
    "         mae[var].expand_dims(metric=[\"mae\"]),\n",
    "         mbe[var].expand_dims(metric=[\"mbe\"]),\n",
    "        ],\n",
    "        dim=\"metric\"\n",
    "    )\n",
    "\n",
    "# Combine all variables into one Dataset\n",
    "combined = xr.Dataset(combined_vars)\n",
    "\n",
    "combined.to_netcdf(\"Africa_R_RMSE_MAE_MBE_monthly_allmodels.nc\")\n",
    "\n",
    "# Final structure\n",
    "print(combined)"
   ]
  },
  {
   "cell_type": "code",
   "execution_count": null,
   "id": "f2eb051e-dea3-4f8f-be3b-e0760c08bd77",
   "metadata": {},
   "outputs": [],
   "source": [
    "# turn the \"R_RMSE_MAE_MBE_monthly_allmodels.nc\" into a json file"
   ]
  },
  {
   "cell_type": "code",
   "execution_count": 3,
   "id": "4b389ef6-1ee3-46b1-ba79-034a50cb45d3",
   "metadata": {},
   "outputs": [
    {
     "name": "stdout",
     "output_type": "stream",
     "text": [
      "Saved as Africa_R_RMSE_MAE_MBE_monthly_allmodels.json\n"
     ]
    }
   ],
   "source": [
    "# Load dataset\n",
    "ds = xr.open_dataset(\"Africa_R_RMSE_MAE_MBE_monthly_allmodels.nc\")\n",
    "# Drop the 'number' coordinate if it exists\n",
    "if \"number\" in ds.coords:\n",
    "    ds = ds.drop_vars(\"number\")\n",
    "\n",
    "# Convert to xarray.Dataset → pandas.DataFrame\n",
    "df = ds.to_dataframe().reset_index()\n",
    "\n",
    "\n",
    "# Convert DataFrame to a list of dictionaries (good for plotting)\n",
    "data = df.to_dict(orient=\"records\")\n",
    "\n",
    "# Save to JSON\n",
    "with open(\"Africa_R_RMSE_MAE_MBE_monthly_allmodels.json\", \"w\") as f:\n",
    "    json.dump(data, f, indent=2)\n",
    "\n",
    "print(\"Saved as Africa_R_RMSE_MAE_MBE_monthly_allmodels.json\")"
   ]
  },
  {
   "cell_type": "code",
   "execution_count": null,
   "id": "9288d443-6c8b-4350-8fc5-ddc3a6bd0255",
   "metadata": {},
   "outputs": [],
   "source": []
  }
 ],
 "metadata": {
  "kernelspec": {
   "display_name": "Python 3 (ipykernel)",
   "language": "python",
   "name": "python3"
  },
  "language_info": {
   "codemirror_mode": {
    "name": "ipython",
    "version": 3
   },
   "file_extension": ".py",
   "mimetype": "text/x-python",
   "name": "python",
   "nbconvert_exporter": "python",
   "pygments_lexer": "ipython3",
   "version": "3.12.2"
  }
 },
 "nbformat": 4,
 "nbformat_minor": 5
}
