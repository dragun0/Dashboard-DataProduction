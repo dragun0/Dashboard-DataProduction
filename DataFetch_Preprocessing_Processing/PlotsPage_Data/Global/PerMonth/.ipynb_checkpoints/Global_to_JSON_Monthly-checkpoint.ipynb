{
 "cells": [
  {
   "cell_type": "code",
   "execution_count": null,
   "id": "5d045597-0ed1-43f4-88e6-76231413596f",
   "metadata": {},
   "outputs": [],
   "source": [
    "import xarray as xr\n",
    "import json"
   ]
  },
  {
   "cell_type": "code",
   "execution_count": null,
   "id": "dfbb306b-0c86-4f43-b512-3aae71cdc315",
   "metadata": {},
   "outputs": [],
   "source": [
    "# merge all \"x_monthly_allmodels.nc\" together"
   ]
  },
  {
   "cell_type": "code",
   "execution_count": null,
   "id": "2762c5ac-bbe7-4902-a454-b4b8ec0c9908",
   "metadata": {},
   "outputs": [],
   "source": [
    "# Open the datasets\n",
    "r = xr.open_dataset(\"PearsonR_monthly_allmodels.nc\")\n",
    "rmse = xr.open_dataset(\"RMSE_monthly_allmodels.nc\")\n",
    "mae = xr.open_dataset(\"MAE_monthly_allmodels.nc\")\n",
    "mbe = xr.open_dataset(\"MBE_monthly_allmodels.nc\")\n",
    "\n",
    "# List of shared variables\n",
    "variables = list(set(r.data_vars) & set(rmse.data_vars) & set(mae.data_vars) & set(mbe.data_vars))\n",
    "\n",
    "# Build a new dataset with a 'metric' dimension\n",
    "combined_vars = {}\n",
    "for var in variables:\n",
    "    combined_vars[var] = xr.concat(\n",
    "        [r[var].expand_dims(metric=[\"r\"]),\n",
    "         rmse[var].expand_dims(metric=[\"rmse\"]),\n",
    "         mae[var].expand_dims(metric=[\"mae\"]),\n",
    "         mbe[var].expand_dims(metric=[\"mbe\"]),\n",
    "        ],\n",
    "        dim=\"metric\"\n",
    "    )\n",
    "\n",
    "# Combine all variables into one Dataset\n",
    "combined = xr.Dataset(combined_vars)\n",
    "\n",
    "combined.to_netcdf(\"R_RMSE_MAE_MBE_monthly_allmodels.nc\")\n",
    "\n",
    "# Final structure\n",
    "print(combined)"
   ]
  },
  {
   "cell_type": "code",
   "execution_count": null,
   "id": "1eb42771-2ffa-4972-942c-f616ad5f009e",
   "metadata": {},
   "outputs": [],
   "source": [
    "# turn the \"R_RMSE_MAE_MBE_monthly_allmodels.nc\" into a json file"
   ]
  },
  {
   "cell_type": "code",
   "execution_count": null,
   "id": "2b32ea7f-affc-4b58-a828-7c238b21d250",
   "metadata": {},
   "outputs": [],
   "source": [
    "# Load dataset\n",
    "ds = xr.open_dataset(\"R_RMSE_MAE_MBE_monthly_allmodels.nc\")\n",
    "# Drop the 'number' coordinate if it exists\n",
    "if \"number\" in ds.coords:\n",
    "    ds = ds.drop_vars(\"number\")\n",
    "\n",
    "# Convert to xarray.Dataset → pandas.DataFrame\n",
    "df = ds.to_dataframe().reset_index()\n",
    "\n",
    "\n",
    "# Convert DataFrame to a list of dictionaries (good for plotting)\n",
    "data = df.to_dict(orient=\"records\")\n",
    "\n",
    "# Save to JSON\n",
    "with open(\"R_RMSE_MAE_MBE_monthly_allmodels.json\", \"w\") as f:\n",
    "    json.dump(data, f, indent=2)\n",
    "\n",
    "print(\"Saved as R_RMSE_MAE_MBE_monthly_allmodels.json\")"
   ]
  },
  {
   "cell_type": "code",
   "execution_count": null,
   "id": "4fa2b155-b64a-40aa-aea4-2b9162899385",
   "metadata": {},
   "outputs": [],
   "source": []
  }
 ],
 "metadata": {
  "kernelspec": {
   "display_name": "Python 3 (ipykernel)",
   "language": "python",
   "name": "python3"
  },
  "language_info": {
   "codemirror_mode": {
    "name": "ipython",
    "version": 3
   },
   "file_extension": ".py",
   "mimetype": "text/x-python",
   "name": "python",
   "nbconvert_exporter": "python",
   "pygments_lexer": "ipython3",
   "version": "3.12.2"
  }
 },
 "nbformat": 4,
 "nbformat_minor": 5
}
