{
 "cells": [
  {
   "cell_type": "code",
   "execution_count": null,
   "id": "bb8b19bc-b1f4-4099-b6bd-352f91b47183",
   "metadata": {},
   "outputs": [],
   "source": [
    "import xarray as xr\n",
    "import json"
   ]
  },
  {
   "cell_type": "code",
   "execution_count": null,
   "id": "063762bd-40bd-45d3-87ec-7585d2ac2019",
   "metadata": {},
   "outputs": [],
   "source": [
    "# merge all \"x_leadtimes_allmodels.nc\" together"
   ]
  },
  {
   "cell_type": "code",
   "execution_count": null,
   "id": "eb513057-a2a0-4d69-b25a-9d60d043de37",
   "metadata": {},
   "outputs": [],
   "source": [
    "# Open the datasets\n",
    "r = xr.open_dataset(\"PearsonR_leadtimes_allmodels.nc\")\n",
    "rmse = xr.open_dataset(\"RMSE_leadtimes_allmodels.nc\")\n",
    "mae = xr.open_dataset(\"MAE_leadtimes_allmodels.nc\")\n",
    "mbe = xr.open_dataset(\"MBE_leadtimes_allmodels.nc\")\n",
    "\n",
    "# List of shared variables\n",
    "variables = list(set(r.data_vars) & set(rmse.data_vars) & set(mae.data_vars) & set(mbe.data_vars))\n",
    "\n",
    "# Build a new dataset with a 'metric' dimension\n",
    "combined_vars = {}\n",
    "for var in variables:\n",
    "    combined_vars[var] = xr.concat(\n",
    "        [r[var].expand_dims(metric=[\"r\"]),\n",
    "         rmse[var].expand_dims(metric=[\"rmse\"]),\n",
    "         mae[var].expand_dims(metric=[\"mae\"]),\n",
    "         mbe[var].expand_dims(metric=[\"mbe\"]),\n",
    "        ],\n",
    "        dim=\"metric\"\n",
    "    )\n",
    "\n",
    "# Combine all variables into one Dataset\n",
    "combined = xr.Dataset(combined_vars)\n",
    "\n",
    "combined.to_netcdf(\"R_RMSE_MAE_MBE_leadtimes_allmodels.nc\")\n",
    "\n",
    "# Final structure\n",
    "print(combined)"
   ]
  },
  {
   "cell_type": "code",
   "execution_count": null,
   "id": "eb568d68-e342-49da-8958-39238bedaa7a",
   "metadata": {},
   "outputs": [],
   "source": [
    "# turn the \"R_RMSE_MAE_MBE_leadtimes_allmodels.nc\" into a json file"
   ]
  },
  {
   "cell_type": "code",
   "execution_count": null,
   "id": "017b6309-f97c-4e93-98c4-d59e59ad3c04",
   "metadata": {},
   "outputs": [],
   "source": [
    "# Load dataset\n",
    "ds = xr.open_dataset(\"R_RMSE_MAE_MBE_leadtimes_allmodels.nc\")\n",
    "# Drop the 'number' coordinate if it exists\n",
    "if \"number\" in ds.coords:\n",
    "    ds = ds.drop_vars(\"number\")\n",
    "\n",
    "# Convert to xarray.Dataset → pandas.DataFrame\n",
    "df = ds.to_dataframe().reset_index()\n",
    "\n",
    "\n",
    "# Convert DataFrame to a list of dictionaries (good for plotting)\n",
    "data = df.to_dict(orient=\"records\")\n",
    "\n",
    "# Save to JSON\n",
    "with open(\"R_RMSE_MAE_MBE_leadtimes_allmodels.json\", \"w\") as f:\n",
    "    json.dump(data, f, indent=2)\n",
    "\n",
    "print(\"Saved as R_RMSE_MAE_MBE_leadtimes_allmodels.json\")"
   ]
  },
  {
   "cell_type": "code",
   "execution_count": null,
   "id": "b69f759f-b3fc-48be-a68e-2648ed568c77",
   "metadata": {},
   "outputs": [],
   "source": []
  },
  {
   "cell_type": "code",
   "execution_count": null,
   "id": "01b403d0-a0f6-4ce3-9d27-42fb23c45c54",
   "metadata": {},
   "outputs": [],
   "source": []
  }
 ],
 "metadata": {
  "kernelspec": {
   "display_name": "Python 3 (ipykernel)",
   "language": "python",
   "name": "python3"
  },
  "language_info": {
   "codemirror_mode": {
    "name": "ipython",
    "version": 3
   },
   "file_extension": ".py",
   "mimetype": "text/x-python",
   "name": "python",
   "nbconvert_exporter": "python",
   "pygments_lexer": "ipython3",
   "version": "3.12.2"
  }
 },
 "nbformat": 4,
 "nbformat_minor": 5
}
