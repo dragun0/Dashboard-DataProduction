{
 "cells": [
  {
   "cell_type": "code",
   "execution_count": 2,
   "id": "96d93ad8-8349-4ec4-bcf0-57b21016926e",
   "metadata": {},
   "outputs": [],
   "source": [
    "import xarray as xr\n",
    "import numpy as np\n",
    "import pandas as pd\n",
    "import os\n",
    "import matplotlib.pyplot as plt\n",
    "import json"
   ]
  },
  {
   "cell_type": "code",
   "execution_count": null,
   "id": "bcc60fca-15c0-4a0e-8435-b03489781dd6",
   "metadata": {},
   "outputs": [],
   "source": [
    "# merge all \"x_monthly_allmodels.nc\" together"
   ]
  },
  {
   "cell_type": "code",
   "execution_count": 3,
   "id": "b04a3f8b-49e8-49f7-bec6-c35068c32b46",
   "metadata": {},
   "outputs": [
    {
     "name": "stdout",
     "output_type": "stream",
     "text": [
      "<xarray.Dataset> Size: 6kB\n",
      "Dimensions:  (metric: 4, month: 13, model: 3)\n",
      "Coordinates:\n",
      "  * metric   (metric) object 32B 'r' 'rmse' 'mae' 'mbe'\n",
      "  * month    (month) int64 104B 1 2 3 4 5 6 7 8 9 10 11 12 13\n",
      "  * model    (model) <U6 72B 'marsai' 'gc' 'marsfc'\n",
      "Data variables:\n",
      "    t2m      (metric, model, month) float64 1kB nan nan ... -0.1644 -0.2165\n",
      "    msl      (metric, model, month) float64 1kB nan nan 0.9499 ... 0.2425 0.8355\n",
      "    q        (metric, model, month) float64 1kB nan nan ... -0.00224 0.006908\n",
      "    v10      (metric, model, month) float64 1kB nan nan ... 0.1091 0.01224\n",
      "    u10      (metric, model, month) float64 1kB nan nan ... 0.03453 -0.06509\n"
     ]
    }
   ],
   "source": [
    "# Open the datasets\n",
    "r = xr.open_dataset(\"Polar_PearsonR_monthly_allmodels.nc\")\n",
    "rmse = xr.open_dataset(\"Polar_RMSE_monthly_allmodels.nc\")\n",
    "mae = xr.open_dataset(\"Polar_MAE_monthly_allmodels.nc\")\n",
    "mbe = xr.open_dataset(\"Polar_MBE_monthly_allmodels.nc\")\n",
    "\n",
    "# List of shared variables\n",
    "variables = list(set(r.data_vars) & set(rmse.data_vars) & set(mae.data_vars) & set(mbe.data_vars))\n",
    "\n",
    "# Build a new dataset with a 'metric' dimension\n",
    "combined_vars = {}\n",
    "for var in variables:\n",
    "    combined_vars[var] = xr.concat(\n",
    "        [r[var].expand_dims(metric=[\"r\"]),\n",
    "         rmse[var].expand_dims(metric=[\"rmse\"]),\n",
    "         mae[var].expand_dims(metric=[\"mae\"]),\n",
    "         mbe[var].expand_dims(metric=[\"mbe\"]),\n",
    "        ],\n",
    "        dim=\"metric\"\n",
    "    )\n",
    "\n",
    "# Combine all variables into one Dataset\n",
    "combined = xr.Dataset(combined_vars)\n",
    "\n",
    "combined.to_netcdf(\"Polar_R_RMSE_MAE_MBE_monthly_allmodels.nc\")\n",
    "\n",
    "# Final structure\n",
    "print(combined)"
   ]
  },
  {
   "cell_type": "code",
   "execution_count": null,
   "id": "48da3958-f1ac-4a8f-b7d7-03a190cf426e",
   "metadata": {},
   "outputs": [],
   "source": [
    "# turn the \"R_RMSE_MAE_MBE_monthly_allmodels.nc\" into a json file"
   ]
  },
  {
   "cell_type": "code",
   "execution_count": 4,
   "id": "98e5cb06-e74f-4774-8d7e-08efeff76f63",
   "metadata": {},
   "outputs": [
    {
     "name": "stdout",
     "output_type": "stream",
     "text": [
      "Saved as Polar_R_RMSE_MAE_MBE_monthly_allmodels.json\n"
     ]
    }
   ],
   "source": [
    "# Load dataset\n",
    "ds = xr.open_dataset(\"Polar_R_RMSE_MAE_MBE_monthly_allmodels.nc\")\n",
    "# Drop the 'number' coordinate if it exists\n",
    "if \"number\" in ds.coords:\n",
    "    ds = ds.drop_vars(\"number\")\n",
    "\n",
    "# Convert to xarray.Dataset → pandas.DataFrame\n",
    "df = ds.to_dataframe().reset_index()\n",
    "\n",
    "\n",
    "# Convert DataFrame to a list of dictionaries (good for plotting)\n",
    "data = df.to_dict(orient=\"records\")\n",
    "\n",
    "# Save to JSON\n",
    "with open(\"Polar_R_RMSE_MAE_MBE_monthly_allmodels.json\", \"w\") as f:\n",
    "    json.dump(data, f, indent=2)\n",
    "\n",
    "print(\"Saved as Polar_R_RMSE_MAE_MBE_monthly_allmodels.json\")"
   ]
  }
 ],
 "metadata": {
  "kernelspec": {
   "display_name": "Python 3 (ipykernel)",
   "language": "python",
   "name": "python3"
  },
  "language_info": {
   "codemirror_mode": {
    "name": "ipython",
    "version": 3
   },
   "file_extension": ".py",
   "mimetype": "text/x-python",
   "name": "python",
   "nbconvert_exporter": "python",
   "pygments_lexer": "ipython3",
   "version": "3.12.2"
  }
 },
 "nbformat": 4,
 "nbformat_minor": 5
}
