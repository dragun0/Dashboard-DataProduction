{
 "cells": [
  {
   "cell_type": "code",
   "execution_count": 1,
   "id": "69370e1a-7932-49a9-a166-1ddf0634ba95",
   "metadata": {},
   "outputs": [],
   "source": [
    "import xarray as xr\n",
    "import json"
   ]
  },
  {
   "cell_type": "code",
   "execution_count": null,
   "id": "687a79b5-6114-4ada-b3f2-e42fd764bc9a",
   "metadata": {},
   "outputs": [],
   "source": [
    "# merge all \"x_monthly_allmodels.nc\" together"
   ]
  },
  {
   "cell_type": "code",
   "execution_count": 2,
   "id": "ab8d61db-9358-4a5b-8dd1-0617117e8ac8",
   "metadata": {},
   "outputs": [
    {
     "name": "stdout",
     "output_type": "stream",
     "text": [
      "<xarray.Dataset> Size: 6kB\n",
      "Dimensions:  (metric: 4, month: 13, model: 3)\n",
      "Coordinates:\n",
      "  * metric   (metric) object 32B 'r' 'rmse' 'mae' 'mbe'\n",
      "  * month    (month) int64 104B 1 2 3 4 5 6 7 8 9 10 11 12 13\n",
      "  * model    (model) <U6 72B 'marsai' 'gc' 'marsfc'\n",
      "Data variables:\n",
      "    u10      (metric, model, month) float64 1kB nan nan ... -0.05032 -0.1368\n",
      "    v10      (metric, model, month) float64 1kB nan nan ... 0.01319 0.03173\n",
      "    q        (metric, model, month) float64 1kB nan nan 0.9494 ... 0.1367 0.0942\n",
      "    msl      (metric, model, month) float64 1kB nan nan ... -0.4336 -0.1922\n",
      "    t2m      (metric, model, month) float64 1kB nan nan ... -0.06895 -0.08541\n"
     ]
    }
   ],
   "source": [
    "# Open the datasets\n",
    "r = xr.open_dataset(\"Subtropics_PearsonR_monthly_allmodels.nc\")\n",
    "rmse = xr.open_dataset(\"Subtropics_RMSE_monthly_allmodels.nc\")\n",
    "mae = xr.open_dataset(\"Subtropics_MAE_monthly_allmodels.nc\")\n",
    "mbe = xr.open_dataset(\"Subtropics_MBE_monthly_allmodels.nc\")\n",
    "\n",
    "# List of shared variables\n",
    "variables = list(set(r.data_vars) & set(rmse.data_vars) & set(mae.data_vars) & set(mbe.data_vars))\n",
    "\n",
    "# Build a new dataset with a 'metric' dimension\n",
    "combined_vars = {}\n",
    "for var in variables:\n",
    "    combined_vars[var] = xr.concat(\n",
    "        [r[var].expand_dims(metric=[\"r\"]),\n",
    "         rmse[var].expand_dims(metric=[\"rmse\"]),\n",
    "         mae[var].expand_dims(metric=[\"mae\"]),\n",
    "         mbe[var].expand_dims(metric=[\"mbe\"]),\n",
    "        ],\n",
    "        dim=\"metric\"\n",
    "    )\n",
    "\n",
    "# Combine all variables into one Dataset\n",
    "combined = xr.Dataset(combined_vars)\n",
    "\n",
    "combined.to_netcdf(\"Subtropics_R_RMSE_MAE_MBE_monthly_allmodels.nc\")\n",
    "\n",
    "# Final structure\n",
    "print(combined)"
   ]
  },
  {
   "cell_type": "code",
   "execution_count": 3,
   "id": "738e1505-0c88-4576-bdee-075acf8d7b44",
   "metadata": {},
   "outputs": [],
   "source": [
    "# turn the \"R_RMSE_MAE_MBE_monthly_allmodels.nc\" into a json file"
   ]
  },
  {
   "cell_type": "code",
   "execution_count": 4,
   "id": "e1d941aa-5d07-4fda-9117-b428ba241e1a",
   "metadata": {},
   "outputs": [
    {
     "name": "stdout",
     "output_type": "stream",
     "text": [
      "Saved as Subtropics_R_RMSE_MAE_MBE_monthly_allmodels.json\n"
     ]
    }
   ],
   "source": [
    "# Load dataset\n",
    "ds = xr.open_dataset(\"Subtropics_R_RMSE_MAE_MBE_monthly_allmodels.nc\")\n",
    "# Drop the 'number' coordinate if it exists\n",
    "if \"number\" in ds.coords:\n",
    "    ds = ds.drop_vars(\"number\")\n",
    "\n",
    "# Convert to xarray.Dataset → pandas.DataFrame\n",
    "df = ds.to_dataframe().reset_index()\n",
    "\n",
    "\n",
    "# Convert DataFrame to a list of dictionaries (good for plotting)\n",
    "data = df.to_dict(orient=\"records\")\n",
    "\n",
    "# Save to JSON\n",
    "with open(\"Subtropics_R_RMSE_MAE_MBE_monthly_allmodels.json\", \"w\") as f:\n",
    "    json.dump(data, f, indent=2)\n",
    "\n",
    "print(\"Saved as Subtropics_R_RMSE_MAE_MBE_monthly_allmodels.json\")"
   ]
  },
  {
   "cell_type": "code",
   "execution_count": null,
   "id": "a5e39067-4ab4-4e9c-9c8d-5ba56e7af692",
   "metadata": {},
   "outputs": [],
   "source": []
  }
 ],
 "metadata": {
  "kernelspec": {
   "display_name": "Python 3 (ipykernel)",
   "language": "python",
   "name": "python3"
  },
  "language_info": {
   "codemirror_mode": {
    "name": "ipython",
    "version": 3
   },
   "file_extension": ".py",
   "mimetype": "text/x-python",
   "name": "python",
   "nbconvert_exporter": "python",
   "pygments_lexer": "ipython3",
   "version": "3.12.2"
  }
 },
 "nbformat": 4,
 "nbformat_minor": 5
}
