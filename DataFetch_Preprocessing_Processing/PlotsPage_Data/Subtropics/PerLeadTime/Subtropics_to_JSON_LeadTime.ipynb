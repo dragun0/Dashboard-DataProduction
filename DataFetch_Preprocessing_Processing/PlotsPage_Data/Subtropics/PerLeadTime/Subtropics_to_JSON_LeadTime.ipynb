{
 "cells": [
  {
   "cell_type": "code",
   "execution_count": 1,
   "id": "c5676e57-c211-420c-ba9d-23907fe51d49",
   "metadata": {},
   "outputs": [],
   "source": [
    "import xarray as xr\n",
    "import numpy as np\n",
    "import pandas as pd\n",
    "import os\n",
    "import matplotlib.pyplot as plt\n",
    "import json"
   ]
  },
  {
   "cell_type": "code",
   "execution_count": null,
   "id": "0ccfefb9-0037-4277-a6fe-1e9a525ff367",
   "metadata": {},
   "outputs": [],
   "source": [
    "# merge all \"x_leadtimes_allmodels.nc\" together"
   ]
  },
  {
   "cell_type": "code",
   "execution_count": 2,
   "id": "5f10ea79-0573-4c0a-bc0a-d27ad10cb4ab",
   "metadata": {},
   "outputs": [
    {
     "name": "stdout",
     "output_type": "stream",
     "text": [
      "<xarray.Dataset> Size: 256kB\n",
      "Dimensions:  (metric: 4, time: 41, month: 13, model: 3)\n",
      "Coordinates:\n",
      "  * metric   (metric) object 32B 'r' 'rmse' 'mae' 'mbe'\n",
      "  * time     (time) float64 328B 0.0 1.0 2.0 3.0 4.0 ... 37.0 38.0 39.0 40.0\n",
      "  * month    (month) int64 104B 1 2 3 4 5 6 7 8 9 10 11 12 13\n",
      "  * model    (model) <U6 72B 'marsai' 'gc' 'marsfc'\n",
      "Data variables:\n",
      "    t2m      (metric, model, month, time) float64 51kB nan nan ... -0.1111\n",
      "    v10      (metric, model, month, time) float64 51kB nan nan ... 0.06447\n",
      "    q        (metric, model, month, time) float64 51kB nan nan ... 0.04597\n",
      "    msl      (metric, model, month, time) float64 51kB nan nan ... -0.3226\n",
      "    u10      (metric, model, month, time) float64 51kB nan nan ... -0.2132\n"
     ]
    }
   ],
   "source": [
    "# Open the datasets\n",
    "r = xr.open_dataset(\"Subtropics_PearsonR_leadtimes_allmodels.nc\")\n",
    "rmse = xr.open_dataset(\"Subtropics_RMSE_leadtimes_allmodels.nc\")\n",
    "mae = xr.open_dataset(\"Subtropics_MAE_leadtimes_allmodels.nc\")\n",
    "mbe = xr.open_dataset(\"Subtropics_MBE_leadtimes_allmodels.nc\")\n",
    "\n",
    "# List of shared variables\n",
    "variables = list(set(r.data_vars) & set(rmse.data_vars) & set(mae.data_vars) & set(mbe.data_vars))\n",
    "\n",
    "# Build a new dataset with a 'metric' dimension\n",
    "combined_vars = {}\n",
    "for var in variables:\n",
    "    combined_vars[var] = xr.concat(\n",
    "        [r[var].expand_dims(metric=[\"r\"]),\n",
    "         rmse[var].expand_dims(metric=[\"rmse\"]),\n",
    "         mae[var].expand_dims(metric=[\"mae\"]),\n",
    "         mbe[var].expand_dims(metric=[\"mbe\"]),\n",
    "        ],\n",
    "        dim=\"metric\"\n",
    "    )\n",
    "\n",
    "# Combine all variables into one Dataset\n",
    "combined = xr.Dataset(combined_vars)\n",
    "\n",
    "combined.to_netcdf(\"Subtropics_R_RMSE_MAE_MBE_leadtimes_allmodels.nc\")\n",
    "\n",
    "# Final structure\n",
    "print(combined)"
   ]
  },
  {
   "cell_type": "code",
   "execution_count": null,
   "id": "d5bd0808-6afe-48d5-ba92-b9b5edb42946",
   "metadata": {},
   "outputs": [],
   "source": [
    "# turn the \"R_RMSE_MAE_MBE_leadtimes_allmodels.nc\" into a json file"
   ]
  },
  {
   "cell_type": "code",
   "execution_count": 3,
   "id": "44a426c7-7d0e-4d8a-ab7c-25840eda9c32",
   "metadata": {},
   "outputs": [
    {
     "name": "stdout",
     "output_type": "stream",
     "text": [
      "Saved as Subtropics_R_RMSE_MAE_MBE_leadtimes_allmodels.json\n"
     ]
    }
   ],
   "source": [
    "# Load dataset\n",
    "ds = xr.open_dataset(\"Subtropics_R_RMSE_MAE_MBE_leadtimes_allmodels.nc\")\n",
    "# Drop the 'number' coordinate if it exists\n",
    "if \"number\" in ds.coords:\n",
    "    ds = ds.drop_vars(\"number\")\n",
    "\n",
    "# Convert to xarray.Dataset → pandas.DataFrame\n",
    "df = ds.to_dataframe().reset_index()\n",
    "\n",
    "\n",
    "# Convert DataFrame to a list of dictionaries (good for plotting)\n",
    "data = df.to_dict(orient=\"records\")\n",
    "\n",
    "# Save to JSON\n",
    "with open(\"Subtropics_R_RMSE_MAE_MBE_leadtimes_allmodels.json\", \"w\") as f:\n",
    "    json.dump(data, f, indent=2)\n",
    "\n",
    "print(\"Saved as Subtropics_R_RMSE_MAE_MBE_leadtimes_allmodels.json\")"
   ]
  },
  {
   "cell_type": "code",
   "execution_count": null,
   "id": "e8ccccc5-e7b8-46cc-a410-ca3140d81c68",
   "metadata": {},
   "outputs": [],
   "source": []
  },
  {
   "cell_type": "code",
   "execution_count": null,
   "id": "719f3d46-6964-47c2-9d95-a2d4fa1a46d7",
   "metadata": {},
   "outputs": [],
   "source": []
  },
  {
   "cell_type": "code",
   "execution_count": null,
   "id": "aaa28c90-1038-4110-b4f7-53353ba915a7",
   "metadata": {},
   "outputs": [],
   "source": []
  }
 ],
 "metadata": {
  "kernelspec": {
   "display_name": "Python 3 (ipykernel)",
   "language": "python",
   "name": "python3"
  },
  "language_info": {
   "codemirror_mode": {
    "name": "ipython",
    "version": 3
   },
   "file_extension": ".py",
   "mimetype": "text/x-python",
   "name": "python",
   "nbconvert_exporter": "python",
   "pygments_lexer": "ipython3",
   "version": "3.12.2"
  }
 },
 "nbformat": 4,
 "nbformat_minor": 5
}
