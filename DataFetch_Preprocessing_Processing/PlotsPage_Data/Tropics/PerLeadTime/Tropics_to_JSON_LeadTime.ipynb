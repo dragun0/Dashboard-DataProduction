{
 "cells": [
  {
   "cell_type": "code",
   "execution_count": 1,
   "id": "97924cec-7fe4-4ea7-86c3-15482f880d0a",
   "metadata": {},
   "outputs": [],
   "source": [
    "import xarray as xr\n",
    "import numpy as np\n",
    "import pandas as pd\n",
    "import os\n",
    "import matplotlib.pyplot as plt\n",
    "import json"
   ]
  },
  {
   "cell_type": "code",
   "execution_count": null,
   "id": "d6bf5982-0d8d-471a-aa0f-40ca433fc858",
   "metadata": {},
   "outputs": [],
   "source": [
    "# merge all \"x_leadtimes_allmodels.nc\" together"
   ]
  },
  {
   "cell_type": "code",
   "execution_count": 2,
   "id": "46c8d61c-1e7a-4c45-b818-67bb50858d1e",
   "metadata": {},
   "outputs": [
    {
     "name": "stdout",
     "output_type": "stream",
     "text": [
      "<xarray.Dataset> Size: 256kB\n",
      "Dimensions:  (metric: 4, time: 41, month: 13, model: 3)\n",
      "Coordinates:\n",
      "  * metric   (metric) object 32B 'r' 'rmse' 'mae' 'mbe'\n",
      "  * time     (time) float64 328B 0.0 1.0 2.0 3.0 4.0 ... 37.0 38.0 39.0 40.0\n",
      "  * month    (month) int64 104B 1 2 3 4 5 6 7 8 9 10 11 12 13\n",
      "  * model    (model) <U6 72B 'marsai' 'gc' 'marsfc'\n",
      "Data variables:\n",
      "    u10      (metric, model, month, time) float64 51kB nan nan ... -0.1077\n",
      "    v10      (metric, model, month, time) float64 51kB nan nan ... 0.06194\n",
      "    msl      (metric, model, month, time) float64 51kB nan nan ... -0.4517\n",
      "    t2m      (metric, model, month, time) float64 51kB nan nan ... -0.06956\n",
      "    q        (metric, model, month, time) float64 51kB nan nan ... 0.1589 0.2576\n"
     ]
    }
   ],
   "source": [
    "# Open the datasets\n",
    "r = xr.open_dataset(\"Tropics_PearsonR_leadtimes_allmodels.nc\")\n",
    "rmse = xr.open_dataset(\"Tropics_RMSE_leadtimes_allmodels.nc\")\n",
    "mae = xr.open_dataset(\"Tropics_MAE_leadtimes_allmodels.nc\")\n",
    "mbe = xr.open_dataset(\"Tropics_MBE_leadtimes_allmodels.nc\")\n",
    "\n",
    "# List of shared variables\n",
    "variables = list(set(r.data_vars) & set(rmse.data_vars) & set(mae.data_vars) & set(mbe.data_vars))\n",
    "\n",
    "# Build a new dataset with a 'metric' dimension\n",
    "combined_vars = {}\n",
    "for var in variables:\n",
    "    combined_vars[var] = xr.concat(\n",
    "        [r[var].expand_dims(metric=[\"r\"]),\n",
    "         rmse[var].expand_dims(metric=[\"rmse\"]),\n",
    "         mae[var].expand_dims(metric=[\"mae\"]),\n",
    "         mbe[var].expand_dims(metric=[\"mbe\"]),\n",
    "        ],\n",
    "        dim=\"metric\"\n",
    "    )\n",
    "\n",
    "# Combine all variables into one Dataset\n",
    "combined = xr.Dataset(combined_vars)\n",
    "\n",
    "combined.to_netcdf(\"Tropics_R_RMSE_MAE_MBE_leadtimes_allmodels.nc\")\n",
    "\n",
    "# Final structure\n",
    "print(combined)"
   ]
  },
  {
   "cell_type": "code",
   "execution_count": null,
   "id": "bf023b93-e9e8-4da1-b0a9-bda764f00ebc",
   "metadata": {},
   "outputs": [],
   "source": [
    "# turn the \"R_RMSE_MAE_MBE_leadtimes_allmodels.nc\" into a json file"
   ]
  },
  {
   "cell_type": "code",
   "execution_count": 3,
   "id": "55622c0d-77dc-4c3d-9b55-a04da2c1984e",
   "metadata": {},
   "outputs": [
    {
     "name": "stdout",
     "output_type": "stream",
     "text": [
      "Saved as Tropics_R_RMSE_MAE_MBE_leadtimes_allmodels.json\n"
     ]
    }
   ],
   "source": [
    "# Load dataset\n",
    "ds = xr.open_dataset(\"Tropics_R_RMSE_MAE_MBE_leadtimes_allmodels.nc\")\n",
    "# Drop the 'number' coordinate if it exists\n",
    "if \"number\" in ds.coords:\n",
    "    ds = ds.drop_vars(\"number\")\n",
    "\n",
    "# Convert to xarray.Dataset → pandas.DataFrame\n",
    "df = ds.to_dataframe().reset_index()\n",
    "\n",
    "\n",
    "# Convert DataFrame to a list of dictionaries (good for plotting)\n",
    "data = df.to_dict(orient=\"records\")\n",
    "\n",
    "# Save to JSON\n",
    "with open(\"Tropics_R_RMSE_MAE_MBE_leadtimes_allmodels.json\", \"w\") as f:\n",
    "    json.dump(data, f, indent=2)\n",
    "\n",
    "print(\"Saved as Tropics_R_RMSE_MAE_MBE_leadtimes_allmodels.json\")"
   ]
  },
  {
   "cell_type": "code",
   "execution_count": null,
   "id": "ca1c72cb-737e-43b6-814a-aba980dfa052",
   "metadata": {},
   "outputs": [],
   "source": []
  },
  {
   "cell_type": "code",
   "execution_count": null,
   "id": "daec5436-eae3-4ebe-874f-2b70408a8d52",
   "metadata": {},
   "outputs": [],
   "source": []
  }
 ],
 "metadata": {
  "kernelspec": {
   "display_name": "Python 3 (ipykernel)",
   "language": "python",
   "name": "python3"
  },
  "language_info": {
   "codemirror_mode": {
    "name": "ipython",
    "version": 3
   },
   "file_extension": ".py",
   "mimetype": "text/x-python",
   "name": "python",
   "nbconvert_exporter": "python",
   "pygments_lexer": "ipython3",
   "version": "3.12.2"
  }
 },
 "nbformat": 4,
 "nbformat_minor": 5
}
