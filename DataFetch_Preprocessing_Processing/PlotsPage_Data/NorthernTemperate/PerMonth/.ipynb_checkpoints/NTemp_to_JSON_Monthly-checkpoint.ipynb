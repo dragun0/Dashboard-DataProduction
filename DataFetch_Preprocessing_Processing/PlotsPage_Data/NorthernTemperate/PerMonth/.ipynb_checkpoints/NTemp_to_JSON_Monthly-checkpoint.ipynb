{
 "cells": [
  {
   "cell_type": "code",
   "execution_count": 2,
   "id": "e9fba03d-4959-469c-ae3e-c6c15a767f4f",
   "metadata": {},
   "outputs": [],
   "source": [
    "import xarray as xr\n",
    "import json"
   ]
  },
  {
   "cell_type": "code",
   "execution_count": null,
   "id": "c9ba1576-2645-4b39-8733-6c22ab5d84b7",
   "metadata": {},
   "outputs": [],
   "source": [
    "# merge all \"x_monthly_allmodels.nc\" together"
   ]
  },
  {
   "cell_type": "code",
   "execution_count": 3,
   "id": "2b6911e1-3b48-4dc0-86e5-fcc9ace04e1a",
   "metadata": {},
   "outputs": [
    {
     "name": "stdout",
     "output_type": "stream",
     "text": [
      "<xarray.Dataset> Size: 6kB\n",
      "Dimensions:  (metric: 4, month: 13, model: 3)\n",
      "Coordinates:\n",
      "  * metric   (metric) object 32B 'r' 'rmse' 'mae' 'mbe'\n",
      "  * month    (month) int64 104B 1 2 3 4 5 6 7 8 9 10 11 12 13\n",
      "  * model    (model) <U6 72B 'marsai' 'gc' 'marsfc'\n",
      "Data variables:\n",
      "    t2m      (metric, model, month) float64 1kB nan nan ... 0.1358 -0.001207\n",
      "    q        (metric, model, month) float64 1kB nan nan ... 0.03717 -0.006842\n",
      "    msl      (metric, model, month) float64 1kB nan nan ... 0.07392 0.2784\n",
      "    u10      (metric, model, month) float64 1kB nan nan ... -0.1408 -0.04151\n",
      "    v10      (metric, model, month) float64 1kB nan nan ... -0.09912 -0.0352\n"
     ]
    }
   ],
   "source": [
    "# Open the datasets\n",
    "r = xr.open_dataset(\"NTemperate_PearsonR_monthly_allmodels.nc\")\n",
    "rmse = xr.open_dataset(\"NTemperate_RMSE_monthly_allmodels.nc\")\n",
    "mae = xr.open_dataset(\"NTemperate_MAE_monthly_allmodels.nc\")\n",
    "mbe = xr.open_dataset(\"NTemperate_MBE_monthly_allmodels.nc\")\n",
    "\n",
    "# List of shared variables\n",
    "variables = list(set(r.data_vars) & set(rmse.data_vars) & set(mae.data_vars) & set(mbe.data_vars))\n",
    "\n",
    "# Build a new dataset with a 'metric' dimension\n",
    "combined_vars = {}\n",
    "for var in variables:\n",
    "    combined_vars[var] = xr.concat(\n",
    "        [r[var].expand_dims(metric=[\"r\"]),\n",
    "         rmse[var].expand_dims(metric=[\"rmse\"]),\n",
    "         mae[var].expand_dims(metric=[\"mae\"]),\n",
    "         mbe[var].expand_dims(metric=[\"mbe\"]),\n",
    "        ],\n",
    "        dim=\"metric\"\n",
    "    )\n",
    "\n",
    "# Combine all variables into one Dataset\n",
    "combined = xr.Dataset(combined_vars)\n",
    "\n",
    "combined.to_netcdf(\"NTemperate_R_RMSE_MAE_MBE_monthly_allmodels.nc\")\n",
    "\n",
    "# Final structure\n",
    "print(combined)"
   ]
  },
  {
   "cell_type": "code",
   "execution_count": null,
   "id": "ff94b425-8d5f-42e7-9405-a6ad1eb155f7",
   "metadata": {},
   "outputs": [],
   "source": [
    "# turn the \"R_RMSE_MAE_MBE_monthly_allmodels.nc\" into a json file"
   ]
  },
  {
   "cell_type": "code",
   "execution_count": 4,
   "id": "c0b8509b-b8cf-4557-afeb-5c3b34243000",
   "metadata": {},
   "outputs": [
    {
     "name": "stdout",
     "output_type": "stream",
     "text": [
      "Saved as NTemperate_R_RMSE_MAE_MBE_monthly_allmodels.json\n"
     ]
    }
   ],
   "source": [
    "# Load dataset\n",
    "ds = xr.open_dataset(\"NTemperate_R_RMSE_MAE_MBE_monthly_allmodels.nc\")\n",
    "# Drop the 'number' coordinate if it exists\n",
    "if \"number\" in ds.coords:\n",
    "    ds = ds.drop_vars(\"number\")\n",
    "\n",
    "# Convert to xarray.Dataset → pandas.DataFrame\n",
    "df = ds.to_dataframe().reset_index()\n",
    "\n",
    "\n",
    "# Convert DataFrame to a list of dictionaries (good for plotting)\n",
    "data = df.to_dict(orient=\"records\")\n",
    "\n",
    "# Save to JSON\n",
    "with open(\"NTemperate_R_RMSE_MAE_MBE_monthly_allmodels.json\", \"w\") as f:\n",
    "    json.dump(data, f, indent=2)\n",
    "\n",
    "print(\"Saved as NTemperate_R_RMSE_MAE_MBE_monthly_allmodels.json\")"
   ]
  }
 ],
 "metadata": {
  "kernelspec": {
   "display_name": "Python 3 (ipykernel)",
   "language": "python",
   "name": "python3"
  },
  "language_info": {
   "codemirror_mode": {
    "name": "ipython",
    "version": 3
   },
   "file_extension": ".py",
   "mimetype": "text/x-python",
   "name": "python",
   "nbconvert_exporter": "python",
   "pygments_lexer": "ipython3",
   "version": "3.12.2"
  }
 },
 "nbformat": 4,
 "nbformat_minor": 5
}
