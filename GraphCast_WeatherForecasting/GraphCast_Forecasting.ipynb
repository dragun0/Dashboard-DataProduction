{
 "cells": [
  {
   "cell_type": "code",
   "execution_count": null,
   "id": "99bb1e41-2901-4af0-adbb-c13fd9e0e3b1",
   "metadata": {},
   "outputs": [],
   "source": [
    "! pip install git+https://github.com/dragun0/remote-graphcast-CDSapi-0.7.x.git"
   ]
  },
  {
   "cell_type": "code",
   "execution_count": null,
   "id": "bfbd3566-d9f2-45d5-96c8-90adfd945520",
   "metadata": {},
   "outputs": [],
   "source": [
    "# install required packages"
   ]
  },
  {
   "cell_type": "code",
   "execution_count": null,
   "id": "28b2f333-1245-4abc-af4d-db71e086535e",
   "metadata": {},
   "outputs": [],
   "source": [
    "from remote_graphcast import remote_cast\n",
    "import requests_cache\n",
    "import pandas as pd\n",
    "from retry_requests import retry\n",
    "import os\n",
    "import boto3\n",
    "import datetime\n",
    "import xarray\n",
    "import xarray as xr\n",
    "import numpy as np\n",
    "import matplotlib.pyplot as plt\n",
    "import logging\n",
    "import climetlab as cml\n",
    "from netCDF4 import Dataset\n",
    "import ecmwf.data as ecdata\n",
    "from osgeo import gdal\n",
    "import cdsapi\n",
    "from ecmwf.opendata import Client\n",
    "import cfgrib\n",
    "import rasterio"
   ]
  },
  {
   "cell_type": "code",
   "execution_count": null,
   "id": "4843436e-a4f7-4d03-9092-65c1bab6b28f",
   "metadata": {},
   "outputs": [],
   "source": [
    "# Credentials\n",
    "aws_access_key_id = '' # @param {type:\"string\"}\n",
    "aws_secret_access_key = '' # @param {type:\"string\"}\n",
    "aws_bucket = '' # @param {type:\"string\"}\n",
    "cds_url = 'https://cds.climate.copernicus.eu/api' # @param {type:\"string\"} # https://cds.climate.copernicus.eu/api-how-to\n",
    "cds_key = ''\n",
    "runpod_key = ''"
   ]
  },
  {
   "cell_type": "code",
   "execution_count": null,
   "id": "7eba0bec-523d-406b-8c1d-1c581ab572da",
   "metadata": {},
   "outputs": [],
   "source": [
    "# Produce graphcast forecasts: runs a docker image in a run pod and saves the predictions to an aws bucket"
   ]
  },
  {
   "cell_type": "code",
   "execution_count": null,
   "id": "d19965ca-7062-4620-9a17-b98a5203dca1",
   "metadata": {},
   "outputs": [],
   "source": [
    "forcast_list =\"[{'start': '2024120106', 'hours_to_forcast': 241}]\"\n",
    "\n",
    "upload_location = remote_cast(\n",
    "\taws_access_key_id=aws_access_key_id,\n",
    "\taws_secret_access_key=aws_secret_access_key,\n",
    "\taws_bucket=aws_bucket,\n",
    "\tcds_url= cds_url, #'https://cds.climate.copernicus.eu/api/v2',\n",
    "\tcds_key= cds_key, #'b3ce5ad9-44cd-4974-a36d-37158c72272f',\n",
    "\tforcast_list=forcast_list,\n",
    "\t# dates to forcast from, note the weird quasi-JSON format, of this string, use single quotes instead of double quotes\n",
    "\t# select a date in the future and it will raise an error without spinning up anything\n",
    "\trunpod_key=runpod_key,\n",
    "\tgpu_type_id=\"NVIDIA A100-SXM4-80GB\", # graphcast needs at least 61GB GPU ram (unless you want to quantize)\n",
    "\tcontainer_disk_in_gb=50, # you'll need around 40GB per 10 day forcast + a healthy 10GB buffer\n",
    ")"
   ]
  }
 ],
 "metadata": {
  "kernelspec": {
   "display_name": "Python 3 (ipykernel)",
   "language": "python",
   "name": "python3"
  },
  "language_info": {
   "codemirror_mode": {
    "name": "ipython",
    "version": 3
   },
   "file_extension": ".py",
   "mimetype": "text/x-python",
   "name": "python",
   "nbconvert_exporter": "python",
   "pygments_lexer": "ipython3",
   "version": "3.12.2"
  }
 },
 "nbformat": 4,
 "nbformat_minor": 5
}
